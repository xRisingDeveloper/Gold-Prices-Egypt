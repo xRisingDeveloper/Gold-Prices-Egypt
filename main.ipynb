{
 "cells": [
  {
   "cell_type": "markdown",
   "metadata": {},
   "source": [
    "#### Gold Prices In Egypt Since 2014"
   ]
  },
  {
   "cell_type": "markdown",
   "metadata": {},
   "source": [
    "the prices in this project are probably not all correct, some are correct and some are nearly correct, I tried my best to find best website with data from 2014"
   ]
  },
  {
   "cell_type": "code",
   "execution_count": 16,
   "metadata": {},
   "outputs": [],
   "source": [
    "from bs4 import BeautifulSoup\n",
    "import requests\n",
    "import pandas as pd\n",
    "import matplotlib.pyplot as plt"
   ]
  },
  {
   "cell_type": "code",
   "execution_count": 17,
   "metadata": {},
   "outputs": [],
   "source": [
    "#Creating an empty dataframe to add information to it\n",
    "df = pd.DataFrame()"
   ]
  },
  {
   "cell_type": "code",
   "execution_count": 18,
   "metadata": {},
   "outputs": [],
   "source": [
    "#Here is a nested loop to loop around all pages on website from 2014 to 2024\n",
    "for year in range(2014, 2025):\n",
    "    for month in range(1, 13):\n",
    "        url = f'https://www.bullion-rates.com/gold/EGP/{year}-{month}-history.htm'\n",
    "        page = requests.get(url)\n",
    "        \n",
    "        #I did this in case page was not found for any reason\n",
    "        if page.status_code != 200:\n",
    "            print(f\"Failed to retrieve data for {year}-{month}\")\n",
    "            continue\n",
    "        soup = BeautifulSoup(page.text, 'html')\n",
    "\n",
    "        #Here I am focusing on the data table located in the website\n",
    "        table = soup.find('table', class_='Grid History')\n",
    "\n",
    "        #In case of any error\n",
    "        if not table:\n",
    "            print(f\"No data available for {year}-{month}\")\n",
    "            continue\n",
    "\n",
    "        #I did this to add the titles only once for a faster operation\n",
    "        if df.empty:\n",
    "            table_titles = [th.text.strip() for th in table.find_all('th')]\n",
    "            df = pd.DataFrame(columns=table_titles)\n",
    "        table_rows = table.find_all('tr')\n",
    "\n",
    "        #Here I am looping through rows of data\n",
    "        for row in table_rows:\n",
    "            table_data = row.find_all('td', class_='rate')\n",
    "            table_data_text = [td.text.strip() for td in table_data]\n",
    "\n",
    "            if table_data_text:\n",
    "                length = len(df)\n",
    "                df.loc[length] = table_data_text"
   ]
  },
  {
   "cell_type": "code",
   "execution_count": 19,
   "metadata": {},
   "outputs": [
    {
     "data": {
      "text/html": [
       "<div>\n",
       "<style scoped>\n",
       "    .dataframe tbody tr th:only-of-type {\n",
       "        vertical-align: middle;\n",
       "    }\n",
       "\n",
       "    .dataframe tbody tr th {\n",
       "        vertical-align: top;\n",
       "    }\n",
       "\n",
       "    .dataframe thead th {\n",
       "        text-align: right;\n",
       "    }\n",
       "</style>\n",
       "<table border=\"1\" class=\"dataframe\">\n",
       "  <thead>\n",
       "    <tr style=\"text-align: right;\">\n",
       "      <th></th>\n",
       "      <th></th>\n",
       "      <th>Gold Price/oz</th>\n",
       "      <th>Gold Price/gram</th>\n",
       "    </tr>\n",
       "  </thead>\n",
       "  <tbody>\n",
       "    <tr>\n",
       "      <th>0</th>\n",
       "      <td>02/01/14</td>\n",
       "      <td>8,510.15</td>\n",
       "      <td>273.61</td>\n",
       "    </tr>\n",
       "    <tr>\n",
       "      <th>1</th>\n",
       "      <td>03/01/14</td>\n",
       "      <td>8,608.94</td>\n",
       "      <td>276.78</td>\n",
       "    </tr>\n",
       "    <tr>\n",
       "      <th>2</th>\n",
       "      <td>06/01/14</td>\n",
       "      <td>8,610.23</td>\n",
       "      <td>276.83</td>\n",
       "    </tr>\n",
       "    <tr>\n",
       "      <th>3</th>\n",
       "      <td>07/01/14</td>\n",
       "      <td>8,573.15</td>\n",
       "      <td>275.63</td>\n",
       "    </tr>\n",
       "    <tr>\n",
       "      <th>4</th>\n",
       "      <td>08/01/14</td>\n",
       "      <td>8,529.94</td>\n",
       "      <td>274.24</td>\n",
       "    </tr>\n",
       "  </tbody>\n",
       "</table>\n",
       "</div>"
      ],
      "text/plain": [
       "            Gold Price/oz Gold Price/gram\n",
       "0  02/01/14      8,510.15          273.61\n",
       "1  03/01/14      8,608.94          276.78\n",
       "2  06/01/14      8,610.23          276.83\n",
       "3  07/01/14      8,573.15          275.63\n",
       "4  08/01/14      8,529.94          274.24"
      ]
     },
     "execution_count": 19,
     "metadata": {},
     "output_type": "execute_result"
    }
   ],
   "source": [
    "df.head()"
   ]
  },
  {
   "cell_type": "code",
   "execution_count": 21,
   "metadata": {},
   "outputs": [],
   "source": [
    "#Renaming for a more clear dataset\n",
    "df.rename(columns={'': 'Date'}, inplace= True)"
   ]
  },
  {
   "cell_type": "code",
   "execution_count": 22,
   "metadata": {},
   "outputs": [
    {
     "name": "stderr",
     "output_type": "stream",
     "text": [
      "C:\\Users\\TECHNICAL\\AppData\\Local\\Temp\\ipykernel_4748\\3610175372.py:2: UserWarning: Could not infer format, so each element will be parsed individually, falling back to `dateutil`. To ensure parsing is consistent and as-expected, please specify a format.\n",
      "  df['Date'] = pd.to_datetime(df['Date'])\n"
     ]
    }
   ],
   "source": [
    "#Turning Date from string to datatime type\n",
    "df['Date'] = pd.to_datetime(df['Date'])"
   ]
  },
  {
   "cell_type": "code",
   "execution_count": 23,
   "metadata": {},
   "outputs": [],
   "source": [
    "#Replacing , with nothing so i can turn them to floats\n",
    "#I understand that this will make reading the number harder but easier visiualization\n",
    "df.replace(',', '', regex = True, inplace=True)"
   ]
  },
  {
   "cell_type": "code",
   "execution_count": 24,
   "metadata": {},
   "outputs": [
    {
     "name": "stdout",
     "output_type": "stream",
     "text": [
      "<class 'pandas.core.frame.DataFrame'>\n",
      "Index: 2843 entries, 0 to 2842\n",
      "Data columns (total 3 columns):\n",
      " #   Column           Non-Null Count  Dtype         \n",
      "---  ------           --------------  -----         \n",
      " 0   Date             2843 non-null   datetime64[ns]\n",
      " 1   Gold Price/oz    2843 non-null   float64       \n",
      " 2   Gold Price/gram  2843 non-null   float64       \n",
      "dtypes: datetime64[ns](1), float64(2)\n",
      "memory usage: 88.8 KB\n"
     ]
    }
   ],
   "source": [
    "#Turning numbers to floats instead of strings\n",
    "df['Gold Price/gram'] = df['Gold Price/gram'].astype(float)\n",
    "df['Gold Price/oz'] = df['Gold Price/oz'].astype(float)\n",
    "df.info()"
   ]
  },
  {
   "cell_type": "code",
   "execution_count": 25,
   "metadata": {},
   "outputs": [],
   "source": [
    "#Making columns for 21K because no one wear 24K gold\n",
    "df['21K_Gold_Price/gram'] = df['Gold Price/gram'] * (21 / 24)\n",
    "df['21K_Gold_Price/oz'] = df['Gold Price/oz'] * (21 / 24)"
   ]
  },
  {
   "cell_type": "code",
   "execution_count": 26,
   "metadata": {},
   "outputs": [
    {
     "data": {
      "text/html": [
       "<div>\n",
       "<style scoped>\n",
       "    .dataframe tbody tr th:only-of-type {\n",
       "        vertical-align: middle;\n",
       "    }\n",
       "\n",
       "    .dataframe tbody tr th {\n",
       "        vertical-align: top;\n",
       "    }\n",
       "\n",
       "    .dataframe thead th {\n",
       "        text-align: right;\n",
       "    }\n",
       "</style>\n",
       "<table border=\"1\" class=\"dataframe\">\n",
       "  <thead>\n",
       "    <tr style=\"text-align: right;\">\n",
       "      <th></th>\n",
       "      <th>Date</th>\n",
       "      <th>Gold Price/oz</th>\n",
       "      <th>Gold Price/gram</th>\n",
       "      <th>21K_Gold_Price/gram</th>\n",
       "      <th>21K_Gold_Price/oz</th>\n",
       "    </tr>\n",
       "  </thead>\n",
       "  <tbody>\n",
       "    <tr>\n",
       "      <th>0</th>\n",
       "      <td>2014-02-01</td>\n",
       "      <td>8510.15</td>\n",
       "      <td>273.61</td>\n",
       "      <td>239.40875</td>\n",
       "      <td>7446.38125</td>\n",
       "    </tr>\n",
       "    <tr>\n",
       "      <th>1</th>\n",
       "      <td>2014-03-01</td>\n",
       "      <td>8608.94</td>\n",
       "      <td>276.78</td>\n",
       "      <td>242.18250</td>\n",
       "      <td>7532.82250</td>\n",
       "    </tr>\n",
       "    <tr>\n",
       "      <th>2</th>\n",
       "      <td>2014-06-01</td>\n",
       "      <td>8610.23</td>\n",
       "      <td>276.83</td>\n",
       "      <td>242.22625</td>\n",
       "      <td>7533.95125</td>\n",
       "    </tr>\n",
       "    <tr>\n",
       "      <th>3</th>\n",
       "      <td>2014-07-01</td>\n",
       "      <td>8573.15</td>\n",
       "      <td>275.63</td>\n",
       "      <td>241.17625</td>\n",
       "      <td>7501.50625</td>\n",
       "    </tr>\n",
       "    <tr>\n",
       "      <th>4</th>\n",
       "      <td>2014-08-01</td>\n",
       "      <td>8529.94</td>\n",
       "      <td>274.24</td>\n",
       "      <td>239.96000</td>\n",
       "      <td>7463.69750</td>\n",
       "    </tr>\n",
       "  </tbody>\n",
       "</table>\n",
       "</div>"
      ],
      "text/plain": [
       "        Date  Gold Price/oz  Gold Price/gram  21K_Gold_Price/gram  \\\n",
       "0 2014-02-01        8510.15           273.61            239.40875   \n",
       "1 2014-03-01        8608.94           276.78            242.18250   \n",
       "2 2014-06-01        8610.23           276.83            242.22625   \n",
       "3 2014-07-01        8573.15           275.63            241.17625   \n",
       "4 2014-08-01        8529.94           274.24            239.96000   \n",
       "\n",
       "   21K_Gold_Price/oz  \n",
       "0         7446.38125  \n",
       "1         7532.82250  \n",
       "2         7533.95125  \n",
       "3         7501.50625  \n",
       "4         7463.69750  "
      ]
     },
     "execution_count": 26,
     "metadata": {},
     "output_type": "execute_result"
    }
   ],
   "source": [
    "df.head()"
   ]
  },
  {
   "cell_type": "code",
   "execution_count": 28,
   "metadata": {},
   "outputs": [
    {
     "name": "stderr",
     "output_type": "stream",
     "text": [
      "C:\\Users\\TECHNICAL\\AppData\\Local\\Temp\\ipykernel_4748\\2588113532.py:4: FutureWarning: 'M' is deprecated and will be removed in a future version, please use 'ME' instead.\n",
      "  df_monthly = date.resample('M').mean()\n"
     ]
    }
   ],
   "source": [
    "#Here I am get mean gold value by every month for a smoother and better visiualization\n",
    "date = df.sort_values(by='Date')\n",
    "date = df.set_index('Date')\n",
    "df_monthly = date.resample('M').mean()"
   ]
  },
  {
   "cell_type": "code",
   "execution_count": 29,
   "metadata": {},
   "outputs": [
    {
     "data": {
      "image/png": "[encoded data removed]",
      "text/plain": [
       "<Figure size 640x480 with 1 Axes>"
      ]
     },
     "metadata": {},
     "output_type": "display_data"
    }
   ],
   "source": [
    "#Visiualization\n",
    "plt.plot(df_monthly.index, df_monthly['21K_Gold_Price/gram'])\n",
    "plt.title('Monthly Average Gold Price per Gram')\n",
    "plt.xlabel('Date')\n",
    "plt.ylabel('Gold Price/gram')\n",
    "plt.show()"
   ]
  }
 ],
 "metadata": {
  "kernelspec": {
   "display_name": "Python 3",
   "language": "python",
   "name": "python3"
  },
  "language_info": {
   "codemirror_mode": {
    "name": "ipython",
    "version": 3
   },
   "file_extension": ".py",
   "mimetype": "text/x-python",
   "name": "python",
   "nbconvert_exporter": "python",
   "pygments_lexer": "ipython3",
   "version": "3.11.9"
  }
 },
 "nbformat": 4,
 "nbformat_minor": 2
}
